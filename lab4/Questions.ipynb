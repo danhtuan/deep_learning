{
 "cells": [
  {
   "cell_type": "markdown",
   "metadata": {},
   "source": [
    "## Questions"
   ]
  },
  {
   "cell_type": "markdown",
   "metadata": {},
   "source": [
    "#### 1. What are the arguments to the Theano function command."
   ]
  },
  {
   "cell_type": "markdown",
   "metadata": {},
   "source": [
    "``` python\n",
    "theano.function(inputs=[x,y], # list of input variables\n",
    "                outputs=..., # what values to be returned\n",
    "                updates=..., # “state” values to be modified\n",
    "                givens=..., # substitutions to the graph\n",
    "```"
   ]
  },
  {
   "cell_type": "markdown",
   "metadata": {
    "deletable": true,
    "editable": true
   },
   "source": [
    "#### 2. How do you set a default value for a function argument?"
   ]
  },
  {
   "cell_type": "markdown",
   "metadata": {},
   "source": [
    "`f = function([x, In(y, value=1)], z)`\n",
    "\n",
    "In this statement, `In(y, value=1)` will set 1 as the default value for argument y."
   ]
  },
  {
   "cell_type": "markdown",
   "metadata": {
    "deletable": true,
    "editable": true
   },
   "source": [
    "#### 3. What are shared variables used for?"
   ]
  },
  {
   "cell_type": "markdown",
   "metadata": {},
   "source": [
    "Variable with Storage that is shared between functions that it appears in. It is normally used for weight and bias "
   ]
  },
  {
   "cell_type": "markdown",
   "metadata": {
    "deletable": true,
    "editable": true
   },
   "source": [
    "#### 4. Does the Theano grad function return numpy arrays, or symbolic Theano variables?"
   ]
  },
  {
   "cell_type": "markdown",
   "metadata": {},
   "source": [
    "It returns symbolic Theano variables. "
   ]
  },
  {
   "cell_type": "markdown",
   "metadata": {
    "deletable": true,
    "editable": true
   },
   "source": [
    "#### 5. Is it possible to enforce the shape of a Theano variable when building a graph?"
   ]
  },
  {
   "cell_type": "markdown",
   "metadata": {},
   "source": [
    "I do not totally understand this question. My best guess is `No`, because when building a graph, normally we already knew the shape (size) of all factors. So it makes sense to avoid the changing"
   ]
  },
  {
   "cell_type": "markdown",
   "metadata": {
    "deletable": true,
    "editable": true
   },
   "source": [
    "#### 6. What does ”broadcasting” mean in Theano?"
   ]
  },
  {
   "cell_type": "markdown",
   "metadata": {},
   "source": [
    "Numpy does broadcasting of arrays of different shapes during arithmetic operations. What this means in\n",
    "general is that the smaller array (or scalar) is broadcasted across the larger array so that they have compatible\n",
    "shapes. Here is an example:\n",
    "```python\n",
    ">>> a = numpy.asarray([1.0, 2.0, 3.0])\n",
    ">>> b = 2.0\n",
    ">>> a * b\n",
    "array([ 2., 4., 6.])\n",
    "```"
   ]
  }
 ],
 "metadata": {
  "kernelspec": {
   "display_name": "Python 2",
   "language": "python",
   "name": "python2"
  },
  "language_info": {
   "codemirror_mode": {
    "name": "ipython",
    "version": 2
   },
   "file_extension": ".py",
   "mimetype": "text/x-python",
   "name": "python",
   "nbconvert_exporter": "python",
   "pygments_lexer": "ipython2",
   "version": "2.7.6"
  }
 },
 "nbformat": 4,
 "nbformat_minor": 2
}
